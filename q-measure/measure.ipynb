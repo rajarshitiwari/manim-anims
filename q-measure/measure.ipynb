{
 "cells": [
  {
   "cell_type": "code",
   "execution_count": 1,
   "metadata": {},
   "outputs": [],
   "source": [
    "# import jupyter_manim\n",
    "from manim import *\n",
    "import manim as mm\n",
    "\n",
    "config.background_color = BLUE_A\n",
    "config.frame_height = 9\n",
    "config.frame_width = 16\n",
    "config.verbosity = 'CRITICAL'\n"
   ]
  },
  {
   "cell_type": "code",
   "execution_count": 8,
   "metadata": {},
   "outputs": [
    {
     "data": {
      "text/html": [
       "<pre style=\"white-space:pre;overflow-x:auto;line-height:normal;font-family:Menlo,'DejaVu Sans Mono',consolas,'Courier New',monospace\">Manim Community <span style=\"color: #008000; text-decoration-color: #008000\">v0.19.0</span>\n",
       "\n",
       "</pre>\n"
      ],
      "text/plain": [
       "Manim Community \u001b[32mv0.\u001b[0m\u001b[32m19.0\u001b[0m\n",
       "\n"
      ]
     },
     "metadata": {},
     "output_type": "display_data"
    },
    {
     "name": "stderr",
     "output_type": "stream",
     "text": [
      "                                                                                                          \r"
     ]
    },
    {
     "data": {
      "text/html": [
       "<video src=\"media/jupyter/QMeasurement@2025-02-21@14-45-08.mp4\" controls autoplay loop style=\"max-width: 60%;\"  >\n",
       "      Your browser does not support the <code>video</code> element.\n",
       "    </video>"
      ],
      "text/plain": [
       "<IPython.core.display.Video object>"
      ]
     },
     "metadata": {},
     "output_type": "display_data"
    }
   ],
   "source": [
    "%%manim QMeasurement\n",
    "\n",
    "class QMeasurement(Scene):\n",
    "   def construct(self):\n",
    "      line = Line(LEFT-(6,0,0), RIGHT+(6,0,0), color=BLACK)\n",
    "      rect = Rectangle(height=2., width=2).set_fill(GREEN_C, opacity=1)\n",
    "      text = Text(\"M\", color=BLACK, font_size=72)\n",
    "      res0 = Text(\"0\", font_size=54, color=BLUE).set_z_index(-1)\n",
    "      res1 = Text(\"1\", font_size=54, color=BLUE).set_z_index(-1)\n",
    "      lab = VGroup(line, rect, res0, text)\n",
    "      lab1 = VGroup(line.copy(), rect.copy(), res1, text.copy())\n",
    "      lab1.move_to(DOWN)\n",
    "      self.add(lab)\n",
    "      pos_0 = LEFT-(5.5, -0.6, 0)\n",
    "      pos_1 = LEFT+(7.5, 0.6, 0)\n",
    "      mid = 0.5 * (pos_0 + pos_1)\n",
    "      instate = Tex(\"$|+\\\\rangle$\", color=RED, font_size=81).move_to(pos_0)\n",
    "      instate.set_z_index(-1)\n",
    "      outstate = Tex(\"$|0\\\\rangle$\", color=RED, font_size=81).move_to(pos_1)\n",
    "      outstate.set_z_index(-1)\n",
    "      instate1 = instate.copy().move_to(mid)\n",
    "      outstate1 = outstate.copy().move_to(mid)\n",
    "      states = VGroup(instate, instate1, outstate, outstate1)\n",
    "      #self.add(states)\n",
    "      self.play(ReplacementTransform(instate, instate1, run_time=2))\n",
    "      self.play(res0.animate.move_to(1.5*UP))\n",
    "      self.play(ReplacementTransform(outstate1, outstate, run_time=2))\n",
    "      gr0 = lab + states\n",
    "      gr0.add(instate.copy().move_to(pos_0).set(color=GRAY))\n",
    "      self.play(gr0.animate.shift(2.5*UP))\n",
    "\n",
    "      i0 = instate.copy().move_to(pos_0+DOWN)\n",
    "      i1 = instate1.copy().move_to(mid+DOWN)\n",
    "      o0 = Tex(\"$|1\\\\rangle$\", color=RED, font_size=81).move_to(pos_1+DOWN)\n",
    "      o1 = o0.copy().move_to(mid+DOWN)\n",
    "      o0.set_z_index(-1)\n",
    "      o1.set_z_index(-1)\n",
    "      o0.set(tex_string=\"$|1\\\\rangle$\")\n",
    "      o1.set(tex_string=\"$|1\\\\rangle$\")\n",
    "      self.add(lab1)\n",
    "      states1 = VGroup(i0, i1, o0, o1)\n",
    "      gr1 = lab1 + states1\n",
    "      self.play(ReplacementTransform(i0, i1, run_time=2))\n",
    "      self.play(res1.animate.move_to(0.5*UP))\n",
    "      self.play(ReplacementTransform(o1, o0, run_time=2))\n",
    "      gr1.add(i0.copy().move_to(pos_0+DOWN).set(color=GRAY))\n",
    "      self.play(gr1.animate.shift(1.5*DOWN))\n",
    "      self.wait()\n",
    "#\n",
    "videopath=\"./media/videos/q-measure/1080p60/\" + QMeasurement.__name__ + \".mp4\""
   ]
  },
  {
   "cell_type": "code",
   "execution_count": null,
   "metadata": {},
   "outputs": [],
   "source": []
  },
  {
   "cell_type": "code",
   "execution_count": 9,
   "metadata": {},
   "outputs": [
    {
     "data": {
      "text/html": [
       "<video src=\"./media/videos/q-measure/1080p60/QMeasurement.mp4\" controls  >\n",
       "      Your browser does not support the <code>video</code> element.\n",
       "    </video>"
      ],
      "text/plain": [
       "<IPython.core.display.Video object>"
      ]
     },
     "execution_count": 9,
     "metadata": {},
     "output_type": "execute_result"
    }
   ],
   "source": [
    "from IPython import display\n",
    "display.Video(videopath)"
   ]
  },
  {
   "cell_type": "code",
   "execution_count": null,
   "metadata": {},
   "outputs": [],
   "source": []
  }
 ],
 "metadata": {
  "kernelspec": {
   "display_name": "Python 3",
   "language": "python",
   "name": "python3"
  },
  "language_info": {
   "codemirror_mode": {
    "name": "ipython",
    "version": 3
   },
   "file_extension": ".py",
   "mimetype": "text/x-python",
   "name": "python",
   "nbconvert_exporter": "python",
   "pygments_lexer": "ipython3",
   "version": "3.12.9"
  },
  "orig_nbformat": 4
 },
 "nbformat": 4,
 "nbformat_minor": 2
}
